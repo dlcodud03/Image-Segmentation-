{
 "cells": [
  {
   "cell_type": "markdown",
   "id": "38bba4a4",
   "metadata": {},
   "source": [
    "## Optimization Project 1 - Image Segmentation\n",
    "### Sarah Stephens (sgs2623), Tara Mary Joseph (tj9763), Theresa Sushil (ts42924), Sarah Lee (cl45274)"
   ]
  },
  {
   "cell_type": "code",
   "execution_count": 10,
   "id": "76a7c715",
   "metadata": {},
   "outputs": [],
   "source": [
    "# Import necessary libraries\n",
    "import numpy as np\n",
    "import matplotlib.pyplot as plt\n",
    "import math\n",
    "from PIL import Image\n",
    "import os\n",
    "from gurobipy import Model, GRB"
   ]
  },
  {
   "cell_type": "code",
   "execution_count": 2,
   "id": "b1b97070-37c3-4642-b00a-6b30c133afe0",
   "metadata": {},
   "outputs": [],
   "source": [
    "### PARAMETERS TO TWEAK ###\n",
    "\n",
    "# Similarity calculation parameter (sigma)\n",
    "sigma = 0.3\n",
    "\n",
    "# Define background and foreground pixel coordinates\n",
    "background_row, background_col = 0, 0\n",
    "foreground_row, foreground_col = 64,64\n",
    "\n",
    "# Image file path (replace with your image path)\n",
    "image_file = 'C:/Users/there/MSBA Resources/Optimization/Swan.jpg'\n",
    "\n",
    "### END OF PARAMETERS ###"
   ]
  },
  {
   "cell_type": "markdown",
   "id": "356d8762-e4e2-40fb-968c-694079dd4f87",
   "metadata": {},
   "source": [
    "In the first step of the process, we define key paramenters to process into the algorithm. The sigma parameter controls the sensitivity to the pixel intensity or brightness, leading to the segmentation process. Additionally, the background and foreground pixel coordinates are specified, and the image file path is provided to set the foundation for processing the image."
   ]
  },
  {
   "cell_type": "code",
   "execution_count": 3,
   "id": "c3a310d5-7cb1-4ae2-8aed-96208ab2b24b",
   "metadata": {},
   "outputs": [
    {
     "name": "stdout",
     "output_type": "stream",
     "text": [
      "128\n"
     ]
    }
   ],
   "source": [
    "# Check file extension to figure out how to load image\n",
    "file_extension = os.path.splitext(image_file)[1].lower()\n",
    "\n",
    "# Load image data\n",
    "if file_extension == '.csv':\n",
    "    # For CSV: load as matrix of pixel values\n",
    "    image_data = np.loadtxt(image_file, delimiter=',')\n",
    "elif file_extension in ['.jpg', '.jpeg', '.png', '.bmp', '.tiff']:\n",
    "    # For image files: load, convert to grayscale & resize\n",
    "    image = Image.open(image_file).convert('L')\n",
    "    print(image.width)\n",
    "    # if image.height > 100 and image.width >100: #For images > 100*100, the image is being resized \n",
    "    #     image = image.resize((100, 100))\n",
    "    image_data = np.array(image, dtype=np.float64)\n",
    "else:\n",
    "    raise ValueError('Error: Only CSV or image files are supported.')\n",
    "\n",
    "# Get image size\n",
    "image_height, image_width = image_data.shape\n",
    "\n",
    "# Total number of pixels\n",
    "num_pixels = image_height * image_width"
   ]
  },
  {
   "cell_type": "markdown",
   "id": "8bb7a822-aa5c-4afd-822f-bb376787f090",
   "metadata": {},
   "source": [
    "With this setup information, the program loads the image depending on the file extension type, returning the image's height and width to determine the total number of pixels. Through this step, any type of image format is properly prepared for the segmentation algorithm. "
   ]
  },
  {
   "cell_type": "code",
   "execution_count": 4,
   "id": "21aa89e8-55cd-45ba-9e1d-19bdcd9890b8",
   "metadata": {},
   "outputs": [],
   "source": [
    "# Dictionary to hold similarities between neighboring pixels\n",
    "similarity_graph = {}\n",
    "\n",
    "# Variable to track the highest similarity value\n",
    "max_sim_value = 0\n",
    "\n",
    "# Iterate through each pixel in the image\n",
    "for r in range(image_height):\n",
    "    for c in range(image_width):\n",
    "        # Flatten to 1D index\n",
    "        pixel_idx = r * image_width + c\n",
    "        # Get intensity of the current pixel\n",
    "        pixel_intensity = image_data[r, c]\n",
    "\n",
    "        # Define 4-nearest neighbors\n",
    "        adjacent_directions = [(-1, 0), (1, 0), (0, -1), (0, 1)]\n",
    "\n",
    "        # Loop through each direction to find neighboring pixels\n",
    "        for dr, dc in adjacent_directions:\n",
    "            nr, nc = r + dr, c + dc\n",
    "\n",
    "            # Ensure neighbor is within image bounds\n",
    "            if 0 <= nr < image_height and 0 <= nc < image_width:\n",
    "                neighbor_idx = nr * image_width + nc\n",
    "                neighbor_intensity = image_data[nr, nc]\n",
    "\n",
    "                # Calculate similarity between current pixel & neighbor\n",
    "                sim_value = np.ceil(100 * np.exp(-((pixel_intensity - neighbor_intensity) ** 2) / (2 * sigma ** 2)))\n",
    "\n",
    "                # Save similarity to dictionary\n",
    "                similarity_graph[(pixel_idx, neighbor_idx)] = sim_value\n",
    "\n",
    "                # Update max similarity\n",
    "                if sim_value > max_sim_value:\n",
    "                    max_sim_value = sim_value"
   ]
  },
  {
   "cell_type": "markdown",
   "id": "7d5047fa-5fa6-4502-865f-cb5ba2b164f7",
   "metadata": {},
   "source": [
    "Next, a similarity graph is constructed in the form of a dictionary. Within this dictionary, the key is a pair of pixel (current and neighbor pixel) with its value of similarity or 'intensity'. Similarity is calculated by finding the difference of brightness or intensity between two pixels, with higher similarity values indicating closer intensity. During this calculation, each encounter is considered to update the highest similarity or max_sim_value. Essentially, this process assigns each pixels to the correspoding or similar neighbors based on its similarity calculation, preparing for the segmentation process."
   ]
  },
  {
   "cell_type": "code",
   "execution_count": 5,
   "id": "d4858aec-87e9-4c3f-939b-f93998614b52",
   "metadata": {},
   "outputs": [],
   "source": [
    "# Compute the indices for background and foreground pixels\n",
    "background_pixel = background_row * image_width + background_col\n",
    "foreground_pixel = foreground_row * image_width + foreground_col\n",
    "\n",
    "# Add source node and sink node connections\n",
    "source_index = num_pixels\n",
    "sink_index = num_pixels + 1\n",
    "\n",
    "# Connect source to the background pixel with the max similarity\n",
    "similarity_graph[(source_index, background_pixel)] = max_sim_value\n",
    "\n",
    "# Connect sink to the foreground pixel with the max similarity\n",
    "similarity_graph[(foreground_pixel, sink_index)] = max_sim_value"
   ]
  },
  {
   "cell_type": "markdown",
   "id": "9273a620-c795-41c6-a024-ef49ed119e20",
   "metadata": {},
   "source": [
    "Source and sink nodes are established to connect with the background and foreground pixels, respectively. Based on the maximum similarity values from the previous step, this connection ensures proper assignement of pixels firmly to the background or foreground. "
   ]
  },
  {
   "cell_type": "code",
   "execution_count": 6,
   "id": "4e584e99-bddc-40a5-9457-350e00222d58",
   "metadata": {},
   "outputs": [
    {
     "name": "stdout",
     "output_type": "stream",
     "text": [
      "Set parameter Username\n",
      "Academic license - for non-commercial use only - expires 2025-08-26\n",
      "Max Flow: 13.0\n"
     ]
    }
   ],
   "source": [
    "# Initialize Gurobi model to calculate max flow\n",
    "gurobi_model = Model('MaxFlow')\n",
    "\n",
    "# Define decision variables for the flow on each edge in the graph\n",
    "flow_values = {}\n",
    "for (start, end), capacity in similarity_graph.items():\n",
    "    flow_values[start, end] = gurobi_model.addVar(lb=0, ub=capacity, vtype=GRB.CONTINUOUS, name=f\"flow_{start}_{end}\")\n",
    "\n",
    "# Objective = maximize flow from source to sink\n",
    "nodes_in_graph = set(range(num_pixels)) | {source_index, sink_index}\n",
    "flow_from_source = sum(flow_values[source_index, neighbor] for neighbor in nodes_in_graph if (source_index, neighbor) in flow_values)\n",
    "gurobi_model.setObjective(flow_from_source, GRB.MAXIMIZE)\n",
    "\n",
    "# Apply flow conservation for every node except source and sink\n",
    "for node in nodes_in_graph:\n",
    "    if node != source_index and node != sink_index:\n",
    "        inflow = sum(flow_values[parent, node] for parent in nodes_in_graph if (parent, node) in flow_values)\n",
    "        outflow = sum(flow_values[node, child] for child in nodes_in_graph if (node, child) in flow_values)\n",
    "        gurobi_model.addConstr(inflow == outflow, name=f'flow_balance_{node}')\n",
    "\n",
    "# Optimize!!!\n",
    "gurobi_model.Params.OutputFlag = 0  # No output\n",
    "gurobi_model.optimize()\n",
    "\n",
    "# Print max flow value if optimal solution found\n",
    "if gurobi_model.status == GRB.OPTIMAL:\n",
    "    print(f\"Max Flow: {gurobi_model.objVal}\")"
   ]
  },
  {
   "cell_type": "markdown",
   "id": "78ad3f6f-a905-4bdd-b3a6-dfc56d522849",
   "metadata": {},
   "source": [
    "Next, the max flow is computed from the source node to the sink node. A dictionary, flow_values, is created to keep all flow for each edge of two pixels. For each of these nodes/pixels, constraint is applied to ensure the entering flow (inflow) equates the leaving flow (outflow), maintaining flow conservation. After gurobi's optimization, the max flow is calculated, representing the strength of connection between the background (source) and the foreground (sink). "
   ]
  },
  {
   "cell_type": "code",
   "execution_count": 7,
   "id": "fbdeded7-1b3c-4b66-9c97-d26301afd046",
   "metadata": {},
   "outputs": [],
   "source": [
    "# Build residual network (subtract flow from capacities)\n",
    "residual_graph = {}\n",
    "flow_results = gurobi_model.getAttr('X', flow_values)\n",
    "\n",
    "for (i, j), capacity in similarity_graph.items():\n",
    "    current_flow = flow_results[(i, j)]\n",
    "    residual_capacity = capacity - current_flow\n",
    "    if residual_capacity > 1e-4:\n",
    "        residual_graph[(i, j)] = residual_capacity"
   ]
  },
  {
   "cell_type": "markdown",
   "id": "99f6717c-adda-45be-b109-5b075a4bb7bd",
   "metadata": {},
   "source": [
    "The residual network is a modified dictionary of the original similarity graph dictionary, containing the difference of the capacity and its current flow. This difference, residual_capacity, indicates how much capacity was unused for that edge during the max flow optimization. Basically, the residual network consists of all edges that have remaining capcity after the max flow calculation. "
   ]
  },
  {
   "cell_type": "code",
   "execution_count": 8,
   "id": "d6b2f339-bf14-44a4-8002-1bc6645e42b5",
   "metadata": {},
   "outputs": [
    {
     "name": "stdout",
     "output_type": "stream",
     "text": [
      "[(6086, 6214), (6092, 6220), (6093, 6221), (6094, 6222), (6095, 6223), (6213, 6214), (6215, 6214), (6216, 6344), (6217, 6345), (6218, 6346), (6219, 6347), (6219, 6220), (6224, 6352), (6224, 6223), (6225, 6353), (6342, 6214), (6343, 6471), (6343, 6344), (6354, 6482), (6354, 6353), (6470, 6598), (6470, 6471), (6483, 6611), (6483, 6482), (6484, 6612), (6597, 6598), (6613, 6612), (6724, 6852), (6725, 6853), (6725, 6726), (6741, 6869), (6741, 6740), (6851, 6852), (6870, 6998), (6870, 6869), (6979, 6980), (6999, 7127), (6999, 6998), (7107, 7108), (7128, 7256), (7128, 7127), (7235, 7236), (7257, 7385), (7257, 7256), (7258, 7386), (7363, 7364), (7387, 7386), (7485, 7613), (7486, 7614), (7487, 7615), (7488, 7616), (7489, 7617), (7490, 7618), (7491, 7619), (7491, 7492), (7515, 7643), (7515, 7514), (7517, 7645), (7610, 7738), (7611, 7739), (7612, 7740), (7612, 7613), (7644, 7772), (7644, 7643), (7644, 7645), (7646, 7645), (7647, 7775), (7737, 7738), (7774, 7902), (7774, 7773), (7774, 7775), (7776, 7775), (7852, 7980), (7853, 7981), (7854, 7982), (7855, 7983), (7856, 7984), (7857, 7985), (7858, 7986), (7859, 7987), (7860, 7988), (7861, 7989), (7865, 7993), (7865, 7866), (7903, 7775), (7903, 8031), (7903, 7902), (7904, 8032), (7976, 8104), (7977, 8105), (7978, 8106), (7979, 8107), (7979, 7980), (7990, 8118), (7990, 7989), (7991, 8119), (7992, 8120), (7992, 7993), (8023, 7895), (8023, 8022), (8024, 7896), (8024, 8025), (8033, 8161), (8033, 8032), (8102, 8230), (8103, 8231), (8103, 8104), (8150, 8022), (8150, 8149), (8153, 8025), (8153, 8154), (8162, 8290), (8162, 8161), (8217, 8345), (8218, 8346), (8228, 8356), (8229, 8357), (8229, 8230), (8278, 8277), (8282, 8154), (8283, 8155), (8284, 8156), (8285, 8157), (8285, 8286), (8291, 8290), (8344, 8345), (8347, 8475), (8347, 8346), (8355, 8356), (8406, 8405), (8408, 8536), (8409, 8537), (8410, 8538), (8414, 8286), (8415, 8287), (8416, 8288), (8416, 8417), (8419, 8547), (8419, 8418), (8473, 8345), (8473, 8601), (8474, 8346), (8474, 8475), (8476, 8475), (8480, 8608), (8483, 8611), (8483, 8484), (8534, 8533), (8535, 8536), (8539, 8667), (8539, 8538), (8545, 8417), (8545, 8546), (8548, 8676), (8548, 8547), (8549, 8677), (8600, 8601), (8602, 8601), (8603, 8475), (8607, 8608), (8609, 8737), (8609, 8608), (8610, 8738), (8610, 8611), (8661, 8533), (8661, 8660), (8664, 8536), (8665, 8537), (8666, 8538), (8666, 8667), (8668, 8667), (8672, 8800), (8673, 8801), (8674, 8546), (8675, 8547), (8675, 8676), (8678, 8806), (8678, 8677), (8729, 8601), (8733, 8861), (8734, 8862), (8735, 8863), (8736, 8608), (8736, 8864), (8736, 8737), (8789, 8917), (8789, 8788), (8795, 8667), (8799, 8800), (8802, 8801), (8803, 8804), (8807, 8935), (8807, 8806), (8860, 8988), (8860, 8861), (8918, 9046), (8918, 8917), (8927, 8928), (8930, 8929), (8932, 8804), (8932, 8933), (8936, 9064), (8936, 8935), (8937, 9065), (8987, 8988), (9047, 9175), (9047, 9046), (9056, 8928), (9057, 8929), (9061, 8933), (9061, 9062), (9066, 9065), (9113, 9241), (9114, 9242), (9115, 9243), (9115, 9116), (9176, 9175), (9190, 9062), (9191, 9063), (9191, 9192), (9194, 9322), (9194, 9193), (9237, 9365), (9239, 9367), (9240, 9368), (9240, 9241), (9304, 9432), (9304, 9303), (9320, 9192), (9320, 9321), (9323, 9451), (9323, 9322), (9364, 9365), (9366, 9494), (9366, 9365), (9366, 9367), (9433, 9432), (9449, 9321), (9449, 9450), (9452, 9580), (9452, 9451), (9454, 9582), (9492, 9620), (9492, 9493), (9561, 9689), (9561, 9560), (9578, 9450), (9578, 9579), (9581, 9709), (9581, 9580), (9581, 9582), (9583, 9582), (9618, 9746), (9619, 9747), (9619, 9620), (9690, 9689), (9705, 9833), (9707, 9579), (9707, 9708), (9710, 9582), (9710, 9838), (9710, 9709), (9744, 9872), (9745, 9746), (9752, 9624), (9752, 9751), (9752, 9753), (9756, 9628), (9756, 9755), (9756, 9757), (9818, 9817), (9821, 9949), (9832, 9833), (9834, 9833), (9835, 9963), (9836, 9708), (9836, 9837), (9839, 9838), (9840, 9968), (9871, 9872), (9873, 9872), (9874, 9746), (9874, 9875), (9878, 9750), (9878, 10006), (9878, 9877), (9879, 9751), (9881, 9753), (9882, 9754), (9883, 9755), (9884, 10012), (9884, 9885), (9946, 9945), (9948, 9949), (9950, 9949), (9961, 9833), (9962, 9963), (9964, 9963), (9965, 9837), (9965, 9966), (9967, 9966), (9967, 9968), (9969, 10097), (9969, 9968), (10000, 9872), (10002, 10130), (10002, 10003), (10005, 9877), (10005, 10004), (10005, 10006), (10007, 10006), (10009, 10137), (10010, 10138), (10011, 10139), (10011, 10012), (10074, 10073), (10076, 10077), (10078, 10077), (10091, 9963), (10094, 9966), (10095, 10096), (10098, 10226), (10098, 10097), (10129, 10130), (10133, 10132), (10134, 10006), (10136, 10137), (10202, 10201), (10205, 10077), (10223, 10224), (10227, 10226), (10256, 10384), (10257, 10385), (10258, 10130), (10259, 10131), (10260, 10132), (10263, 10391), (10264, 10392), (10265, 10137), (10265, 10393), (10266, 10138), (10266, 10394), (10267, 10139), (10267, 10395), (10267, 10268), (10330, 10329), (10352, 10224), (10353, 10225), (10354, 10226), (10383, 10384), (10386, 10385), (10390, 10391), (10458, 10457), (10511, 10512), (10513, 10385), (10513, 10512), (10519, 10391), (10520, 10392), (10521, 10393), (10522, 10394), (10523, 10395), (10523, 10524), (10586, 10585), (10640, 10512), (10652, 10524), (10653, 10525), (10654, 10526), (10655, 10527), (10656, 10528), (10657, 10529), (10658, 10530), (10659, 10531), (10660, 10532), (10661, 10533), (10661, 10662), (10714, 10713), (10790, 10662), (10791, 10663), (10791, 10792), (10841, 10713), (10841, 10840), (10918, 11046), (10919, 11047), (10919, 10920), (10965, 10837), (10965, 10964), (10965, 10966), (10969, 10968), (11045, 11046), (11052, 10924), (11052, 11051), (11053, 10925), (11054, 10926), (11055, 10927), (11056, 10928), (11056, 11057), (11087, 10959), (11087, 11086), (11088, 10960), (11089, 10961), (11090, 10962), (11091, 10963), (11092, 10964), (11094, 10966), (11095, 10967), (11096, 10968), (11174, 11046), (11175, 11047), (11176, 11048), (11177, 11049), (11178, 11050), (11179, 11051), (11184, 11185), (11187, 11059), (11187, 11186), (11188, 11060), (11189, 11061), (11190, 11062), (11191, 11063), (11191, 11192), (11193, 11065), (11193, 11192), (11194, 11066), (11194, 11195), (11197, 11069), (11197, 11196), (11198, 11070), (11198, 11199), (11203, 11075), (11203, 11202), (11204, 11076), (11205, 11077), (11206, 11078), (11207, 11079), (11208, 11080), (11209, 11081), (11210, 11082), (11211, 11083), (11212, 11084), (11213, 11085), (11213, 11214), (11215, 11214), (11313, 11185), (11314, 11186), (11320, 11192), (11323, 11195), (11324, 11196), (11327, 11199), (11328, 11200), (11329, 11201), (11330, 11202), (11342, 11214), (15237, 15365), (15360, 15488), (15364, 15365), (15366, 15365), (15380, 15508), (15389, 15517), (15489, 15488), (15490, 15618), (15493, 15365), (15500, 15628), (15503, 15631), (15507, 15508), (15509, 15508), (15516, 15517), (15518, 15517), (15524, 15652), (15527, 15655), (15528, 15656), (15616, 15488), (15616, 15744), (15617, 15618), (15619, 15618), (15627, 15755), (15627, 15628), (15629, 15757), (15629, 15628), (15630, 15758), (15630, 15631), (15632, 15631), (15635, 15763), (15636, 15508), (15639, 15767), (15645, 15517), (15649, 15777), (15651, 15652), (15653, 15781), (15653, 15652), (15654, 15655), (15657, 15656), (15745, 15744), (15746, 15618), (15748, 15876), (15754, 15755), (15756, 15628), (15756, 15755), (15756, 15757), (15759, 15631), (15759, 15887), (15759, 15758), (15762, 15763), (15764, 15763), (15766, 15767), (15768, 15767), (15769, 15897), (15772, 15900), (15776, 15777), (15778, 15777), (15780, 15652), (15780, 15781), (15782, 15781), (15783, 15655), (15784, 15656), (15786, 15914), (15788, 15916), (15872, 15744), (15875, 16003), (15875, 15876), (15877, 15876), (15883, 15755), (15885, 15757), (15886, 15758), (15886, 15887), (15888, 15887), (15889, 16017), (15891, 15763), (15895, 15767), (15896, 16024), (15896, 15897), (15898, 15897), (15899, 15900), (15901, 15900), (15905, 15777), (15906, 16034), (15909, 15781), (15913, 15914), (15915, 15914), (15915, 15916), (15917, 15916), (16001, 16129), (16002, 16003), (16004, 15876), (16004, 16132), (16004, 16003), (16005, 16133), (16007, 16135), (16008, 16136), (16009, 16137), (16010, 16138), (16011, 16139), (16013, 16141), (16014, 16142), (16015, 15887), (16016, 16144), (16016, 16017), (16018, 16017), (16019, 16147), (16020, 16148), (16021, 16149), (16022, 16150), (16023, 16151), (16023, 16024), (16025, 15897), (16025, 16024), (16026, 16154), (16028, 15900), (16028, 16156), (16029, 16157), (16030, 16158), (16031, 16159), (16033, 16161), (16033, 16034), (16035, 16163), (16035, 16034), (16037, 16165), (16038, 16166), (16039, 16167), (16040, 16168), (16041, 16042), (16043, 16171), (16043, 16042), (16044, 15916), (16045, 16173), (16047, 16175), (16128, 16256), (16128, 16129), (16130, 16258), (16130, 16129), (16130, 16131), (16134, 16133), (16134, 16135), (16140, 16139), (16140, 16141), (16143, 16271), (16143, 16142), (16143, 16144), (16145, 16017), (16145, 16273), (16145, 16144), (16146, 16147), (16153, 16281), (16153, 16152), (16153, 16154), (16155, 16154), (16155, 16156), (16160, 16288), (16160, 16159), (16160, 16161), (16164, 16163), (16164, 16165), (16169, 16168), (16169, 16170), (16172, 16300), (16172, 16171), (16172, 16173), (16174, 16173), (16174, 16175), (16176, 16175), (16262, 16261), (16262, 16263), (16268, 16267), (16268, 16269), (16274, 16273), (16274, 16275), (16283, 16282), (16283, 16284), (16292, 16291), (16292, 16293), (16295, 16167), (16295, 16294), (16296, 16168), (16297, 16298), (16302, 16301), (16302, 16303), (16304, 16303)]\n"
     ]
    }
   ],
   "source": [
    "# DFS function to find reachable nodes in the residual graph\n",
    "def depth_first_search(residual_graph, start_node):\n",
    "    visited = [False] * (num_pixels + 2)\n",
    "    stack = [start_node]\n",
    "    reachable = set()\n",
    "    \n",
    "    while stack:\n",
    "        node = stack.pop()\n",
    "        if not visited[node]:\n",
    "            visited[node] = True\n",
    "            reachable.add(node)\n",
    "\n",
    "            for neighbor in range(num_pixels + 2):\n",
    "                if (node, neighbor) in residual_graph and residual_graph[(node, neighbor)] > 0 and not visited[neighbor]:\n",
    "                    stack.append(neighbor)\n",
    "\n",
    "    return reachable\n",
    "\n",
    "# Run DFS from source node\n",
    "reachable_nodes = depth_first_search(residual_graph, source_index)\n",
    "\n",
    "# Identify nodes that can't be reached from the source\n",
    "unreachable_nodes = set(range(num_pixels + 2)) - reachable_nodes\n",
    "\n",
    "# Find cut edges\n",
    "cut_edges = [(i, j) for (i, j) in similarity_graph.keys() if i in reachable_nodes and j in unreachable_nodes]\n",
    "print(cut_edges)"
   ]
  },
  {
   "cell_type": "markdown",
   "id": "1e229841-3e42-4bdc-9dea-3cd1a97f3175",
   "metadata": {},
   "source": [
    "The depth first search (dfs) function establishes two nodes: reachable_nodes and unreachable_nodes. Starting from the source node, the function returns a stack of nodes reached from the source in the residual graph. On the other hand, the stack of nodes that can't be reached from the source in the residual graph is returned as unreachable_nodes as they are separated from the background/source. Additionally, the cut edges are defined, which solves the min cut part of the problem. Cut edges represent the edges that connect a reachable node from the background to a unreachable node from the foreground, defining pixel regions to separate the object of interest (foreground) from its background. "
   ]
  },
  {
   "cell_type": "code",
   "execution_count": 9,
   "id": "169eb5a3-93de-497d-9cfc-c52eda6c6cd8",
   "metadata": {},
   "outputs": [
    {
     "data": {
      "image/png": "[encoded data removed]",
      "text/plain": [
       "<Figure size 600x600 with 1 Axes>"
      ]
     },
     "metadata": {},
     "output_type": "display_data"
    }
   ],
   "source": [
    "# Prep pixel data\n",
    "pixel_array = image_data\n",
    "\n",
    "# Plot og image & overlay cuts\n",
    "plt.figure(figsize=(6, 6))\n",
    "plt.imshow(pixel_array, cmap='gray', origin='upper')\n",
    "plt.axis('off')\n",
    "\n",
    "for (i, j) in cut_edges:\n",
    "    row_i, col_i = divmod(i, image_width)\n",
    "    row_j, col_j = divmod(j, image_width)\n",
    "    plt.plot([col_i, col_j], [row_i, row_j], color='red', linewidth=2)\n",
    "\n",
    "plt.title('Image Segmentation Output')\n",
    "plt.show()"
   ]
  },
  {
   "cell_type": "markdown",
   "id": "e3f88074",
   "metadata": {},
   "source": [
    "Finally, the original image is displayed with the red cut edges. The red lines represent the boundaries between the foreground and background or the segmentation results calculated by the algorithm. Above all, the final output visually assesses the similarity computation and the max flow min cut algorithm with the provided parameters. "
   ]
  },
  {
   "cell_type": "markdown",
   "id": "5a734858-3bb5-4fe1-9247-502118f5dbf8",
   "metadata": {},
   "source": [
    "Credit to ChatGPT for help with general organization of ideas, niche code blocks, and debugging"
   ]
  }
 ],
 "metadata": {
  "kernelspec": {
   "display_name": "Python 3 (ipykernel)",
   "language": "python",
   "name": "python3"
  },
  "language_info": {
   "codemirror_mode": {
    "name": "ipython",
    "version": 3
   },
   "file_extension": ".py",
   "mimetype": "text/x-python",
   "name": "python",
   "nbconvert_exporter": "python",
   "pygments_lexer": "ipython3",
   "version": "3.12.4"
  }
 },
 "nbformat": 4,
 "nbformat_minor": 5
}
